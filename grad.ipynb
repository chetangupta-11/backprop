{
 "cells": [
  {
   "cell_type": "code",
   "execution_count": 1,
   "metadata": {},
   "outputs": [],
   "source": [
    "import matplotlib.pyplot as plt\n",
    "import numpy as np\n",
    "import math"
   ]
  },
  {
   "cell_type": "code",
   "execution_count": 2,
   "metadata": {},
   "outputs": [],
   "source": [
    "class Value():\n",
    "    def __init__(self, data, _children=(), _op = '', label=''):\n",
    "        self.data = data\n",
    "        self._prev = set(_children)\n",
    "        self._op = _op\n",
    "        self.label = label\n",
    "        self.grad = 0.0     # x.grad means derivative of loss fn (final node) wrt x\n",
    "        self._backward = lambda: None # it is defined None function as default in case it is used for a leaf node\n",
    "\n",
    "    def __repr__(self):\n",
    "        return f'Value {self.label}(data = {self.data})'\n",
    "\n",
    "    def __add__(self, other):\n",
    "        other = other if isinstance(other, Value) else Value(other)\n",
    "        out = Value(self.data + other.data, (self, other), '+')\n",
    "        \n",
    "        def _backward():\n",
    "            '''\n",
    "            if  x = y + z (think of it in terms of graph, will be easier)\n",
    "            then gradient of x wrt y or z will be 1, i.e.,\n",
    "            gradient of an addition operator propagates to its components, \n",
    "            therefore gradient of loss fn wrt components (y or z) will be\n",
    "            equal to gradient of loss fn wrt x\n",
    "            '''\n",
    "            self.grad += 1.0 * out.grad      #since it is backpropagation, we already know gradient of loss fn wrt out\n",
    "            other.grad += 1.0 * out.grad    # += because gradients accumulate, helful when a same node is used multiple times\n",
    "\n",
    "        out._backward = _backward       #since self._backward is already defined as a function, therefore _backward not _backward()\n",
    "        return out\n",
    "    \n",
    "    def __radd__(self, other):\n",
    "        '''python redirects addition to radd when it sees \n",
    "        it can't handle addition in one order but can perform it in reverse order'''\n",
    "        return self + other\n",
    "\n",
    "    def __mul__(self, other):\n",
    "        other = other if isinstance(other, Value) else Value(other)\n",
    "        out = Value(self.data * other.data, (self, other), '*')\n",
    "\n",
    "        def _backward():\n",
    "            '''\n",
    "            if  x = y * z (think of it in terms of graph, will be easier)\n",
    "            then gradient of x wrt y and z will be z and y respectively, \n",
    "            therefore gradient of loss fn wrt components y or z will be\n",
    "            equal to gradient of loss fn wrt x * z or gradient of loss fn wrt x * y,\n",
    "            respectively\n",
    "            '''\n",
    "            self.grad += other.data * out.grad      \n",
    "            other.grad += self.data * out.grad\n",
    "\n",
    "        out._backward = _backward\n",
    "        return out\n",
    "    \n",
    "    def __rmul__(self, other):\n",
    "        '''python redirects multiplication to rmul when it sees \n",
    "        it can't handle multiplication in one order but can perform it in reverse order'''\n",
    "        return self * other\n",
    "\n",
    "    def exp(self): #e^self\n",
    "        out = Value(math.exp(self.data), (self, ), _op = 'exp')\n",
    "\n",
    "        def _backward():\n",
    "            self.grad += out.data * out.grad\n",
    "\n",
    "        out._backward = _backward\n",
    "        return out\n",
    "\n",
    "    def __pow__(self, other): #self**other\n",
    "        assert isinstance(other, (int, float)), 'Power operator only supports int or float'\n",
    "\n",
    "        out = Value(self.data**other, (self, ), _op = f'**{other}')\n",
    "\n",
    "        def _backward():\n",
    "            self.grad += other * self.data**(other-1) * out.grad\n",
    "        out._backward = _backward\n",
    "        return out\n",
    "\n",
    "    def __truediv__(self, other): #self/other\n",
    "        return self * other**-1\n",
    "\n",
    "    def __neg__(self):  #-self\n",
    "        return self * -1 \n",
    "\n",
    "    def __sub__(self, other):   #self - other\n",
    "        return self + (-other)\n",
    "\n",
    "    def tanh(self):\n",
    "        x = self.data\n",
    "        t = (math.exp(2*x) - 1)/(math.exp(2*x) + 1)\n",
    "        out = Value(t, (self, ), 'tanh')\n",
    "\n",
    "        def _backward():\n",
    "            self.grad += (1 - t**2)*out.grad\n",
    "        out._backward = _backward\n",
    "        return out\n",
    "    \n",
    "    def backward(self):\n",
    "        self.grad = 1.0\n",
    "\n",
    "        # using topological sort to arrange nodes in topological order\n",
    "        topo = []\n",
    "        visited = set()\n",
    "        def build_topo(v):\n",
    "            if v not in visited:\n",
    "                visited.add(v)\n",
    "                for child in v._prev:\n",
    "                    build_topo(child)\n",
    "                topo.append(v)\n",
    "        build_topo(self)\n",
    "\n",
    "        print('Gradients before backprop')\n",
    "        for node in topo:\n",
    "            print(node, node.grad)\n",
    "\n",
    "        for node in reversed(topo):\n",
    "            node._backward()\n",
    "\n",
    "        print('\\nGradients after backprop')\n",
    "        for node in topo:\n",
    "            print(node, node.grad)"
   ]
  },
  {
   "cell_type": "markdown",
   "metadata": {},
   "source": [
    "## Using tanh fuunction"
   ]
  },
  {
   "cell_type": "markdown",
   "metadata": {},
   "source": [
    "### A workflow where a, b and c are three leaf nodes, d and e are intermediary results and f is the final output"
   ]
  },
  {
   "cell_type": "code",
   "execution_count": 126,
   "metadata": {},
   "outputs": [
    {
     "name": "stdout",
     "output_type": "stream",
     "text": [
      "Value d(data = -6) Value e(data = 4.0) Value f(data = 0.999329299739067)\n"
     ]
    }
   ],
   "source": [
    "a = Value(2, label='a')\n",
    "b = Value(-3, label='b')\n",
    "c = Value(10.0, label='c')\n",
    "d = a*b; d.label = 'd'\n",
    "e = d + c; e.label='e'\n",
    "f = e.tanh(); f.label='f'\n",
    "print(d, e, f)"
   ]
  },
  {
   "cell_type": "code",
   "execution_count": 127,
   "metadata": {},
   "outputs": [
    {
     "data": {
      "text/plain": [
       "{Value e(data = 4.0)}"
      ]
     },
     "execution_count": 127,
     "metadata": {},
     "output_type": "execute_result"
    }
   ],
   "source": [
    "f._prev"
   ]
  },
  {
   "cell_type": "code",
   "execution_count": 128,
   "metadata": {},
   "outputs": [
    {
     "data": {
      "text/plain": [
       "'tanh'"
      ]
     },
     "execution_count": 128,
     "metadata": {},
     "output_type": "execute_result"
    }
   ],
   "source": [
    "f._op"
   ]
  },
  {
   "cell_type": "markdown",
   "metadata": {},
   "source": [
    "### Manually calling the backward function to check if the derivatives are flowing correctly"
   ]
  },
  {
   "cell_type": "code",
   "execution_count": 116,
   "metadata": {},
   "outputs": [],
   "source": [
    "f.grad = 1 # this has to be set since f is the output node and f.grad means derivative of output node f wrt f"
   ]
  },
  {
   "cell_type": "code",
   "execution_count": 117,
   "metadata": {},
   "outputs": [],
   "source": [
    "f._backward()"
   ]
  },
  {
   "cell_type": "code",
   "execution_count": 118,
   "metadata": {},
   "outputs": [
    {
     "name": "stdout",
     "output_type": "stream",
     "text": [
      "0.0013409506830258655\n"
     ]
    }
   ],
   "source": [
    "print(e.grad)"
   ]
  },
  {
   "cell_type": "code",
   "execution_count": 119,
   "metadata": {},
   "outputs": [],
   "source": [
    "e._backward()"
   ]
  },
  {
   "cell_type": "code",
   "execution_count": 120,
   "metadata": {},
   "outputs": [
    {
     "name": "stdout",
     "output_type": "stream",
     "text": [
      "0.0013409506830258655 0.0013409506830258655\n"
     ]
    }
   ],
   "source": [
    "print(d.grad, c.grad)"
   ]
  },
  {
   "cell_type": "code",
   "execution_count": 121,
   "metadata": {},
   "outputs": [],
   "source": [
    "d._backward()"
   ]
  },
  {
   "cell_type": "code",
   "execution_count": 122,
   "metadata": {},
   "outputs": [
    {
     "name": "stdout",
     "output_type": "stream",
     "text": [
      "-0.0040228520490775965 0.002681901366051731\n"
     ]
    }
   ],
   "source": [
    "print(a.grad, b.grad)"
   ]
  },
  {
   "cell_type": "code",
   "execution_count": 123,
   "metadata": {},
   "outputs": [
    {
     "name": "stdout",
     "output_type": "stream",
     "text": [
      "-0.0040228520490775965\n"
     ]
    }
   ],
   "source": [
    "a._backward()\n",
    "print(a.grad)   #since a is a leaf node, a._backward() returns None function"
   ]
  },
  {
   "cell_type": "markdown",
   "metadata": {},
   "source": [
    "### Automating backpropagation"
   ]
  },
  {
   "cell_type": "markdown",
   "metadata": {},
   "source": [
    "#### Topological Sort\n",
    "All the arrows go in a single direction (left to right).\n",
    "Required because we want to automate gradient calculation (calling backward function) and this should occur in order going from back to front."
   ]
  },
  {
   "cell_type": "code",
   "execution_count": 129,
   "metadata": {},
   "outputs": [
    {
     "name": "stdout",
     "output_type": "stream",
     "text": [
      "Gradients before backprop\n",
      "Value c(data = 10.0) 0.0\n",
      "Value b(data = -3) 0.0\n",
      "Value a(data = 2) 0.0\n",
      "Value d(data = -6) 0.0\n",
      "Value e(data = 4.0) 0.0\n",
      "Value f(data = 0.999329299739067) 1.0\n",
      "\n",
      "Gradients after backprop\n",
      "Value c(data = 10.0) 0.0013409506830258655\n",
      "Value b(data = -3) 0.002681901366051731\n",
      "Value a(data = 2) -0.0040228520490775965\n",
      "Value d(data = -6) 0.0013409506830258655\n",
      "Value e(data = 4.0) 0.0013409506830258655\n",
      "Value f(data = 0.999329299739067) 1.0\n"
     ]
    }
   ],
   "source": [
    "f.backward()"
   ]
  },
  {
   "cell_type": "markdown",
   "metadata": {},
   "source": [
    "### Correcting backpropagation code"
   ]
  },
  {
   "cell_type": "markdown",
   "metadata": {},
   "source": [
    "#### Before Correction"
   ]
  },
  {
   "cell_type": "markdown",
   "metadata": {},
   "source": [
    "If a node is used multiple times as shown in example below, the code where accumulation of gradients is not taken into consideration i.e., only **`=`** is used like `self.grad =` won't work correctly. **`=`** should be replaced by **`+=`** to accumulate gradients."
   ]
  },
  {
   "cell_type": "code",
   "execution_count": 4,
   "metadata": {},
   "outputs": [
    {
     "name": "stdout",
     "output_type": "stream",
     "text": [
      "Value m(data = 8.0) Value n(data = 4.0)\n"
     ]
    }
   ],
   "source": [
    "n = Value(4.0, label='n')\n",
    "m = n + n; m.label = 'm'\n",
    "print(m, n)"
   ]
  },
  {
   "cell_type": "code",
   "execution_count": 5,
   "metadata": {},
   "outputs": [
    {
     "data": {
      "text/plain": [
       "{Value n(data = 4.0)}"
      ]
     },
     "execution_count": 5,
     "metadata": {},
     "output_type": "execute_result"
    }
   ],
   "source": [
    "m._prev"
   ]
  },
  {
   "cell_type": "code",
   "execution_count": 6,
   "metadata": {},
   "outputs": [
    {
     "name": "stdout",
     "output_type": "stream",
     "text": [
      "0.0 0.0\n"
     ]
    }
   ],
   "source": [
    "print(n.grad, m.grad)"
   ]
  },
  {
   "cell_type": "code",
   "execution_count": 8,
   "metadata": {},
   "outputs": [
    {
     "name": "stdout",
     "output_type": "stream",
     "text": [
      "0.0 1.0\n"
     ]
    }
   ],
   "source": [
    "m.grad = 1.0\n",
    "print(n.grad, m.grad)"
   ]
  },
  {
   "cell_type": "code",
   "execution_count": 10,
   "metadata": {},
   "outputs": [
    {
     "name": "stdout",
     "output_type": "stream",
     "text": [
      "Gradients before backprop\n",
      "Value n(data = 4.0) 0.0\n",
      "Value m(data = 8.0) 1.0\n",
      "\n",
      "Gradients after backprop\n",
      "Value n(data = 4.0) 1.0\n",
      "Value m(data = 8.0) 1.0\n"
     ]
    }
   ],
   "source": [
    "m.backward()"
   ]
  },
  {
   "cell_type": "markdown",
   "metadata": {},
   "source": [
    "#### After Correction"
   ]
  },
  {
   "cell_type": "code",
   "execution_count": 13,
   "metadata": {},
   "outputs": [
    {
     "name": "stdout",
     "output_type": "stream",
     "text": [
      "Value m(data = 8.0) Value n(data = 4.0)\n"
     ]
    }
   ],
   "source": [
    "n = Value(4.0, label='n')\n",
    "m = n + n; m.label = 'm'\n",
    "print(m, n)"
   ]
  },
  {
   "cell_type": "code",
   "execution_count": 14,
   "metadata": {},
   "outputs": [
    {
     "data": {
      "text/plain": [
       "{Value n(data = 4.0)}"
      ]
     },
     "execution_count": 14,
     "metadata": {},
     "output_type": "execute_result"
    }
   ],
   "source": [
    "m._prev"
   ]
  },
  {
   "cell_type": "code",
   "execution_count": 15,
   "metadata": {},
   "outputs": [
    {
     "name": "stdout",
     "output_type": "stream",
     "text": [
      "0.0 0.0\n"
     ]
    }
   ],
   "source": [
    "print(n.grad, m.grad)"
   ]
  },
  {
   "cell_type": "code",
   "execution_count": 16,
   "metadata": {},
   "outputs": [
    {
     "name": "stdout",
     "output_type": "stream",
     "text": [
      "0.0 1.0\n"
     ]
    }
   ],
   "source": [
    "m.grad = 1.0\n",
    "print(n.grad, m.grad)"
   ]
  },
  {
   "cell_type": "code",
   "execution_count": 17,
   "metadata": {},
   "outputs": [
    {
     "name": "stdout",
     "output_type": "stream",
     "text": [
      "Gradients before backprop\n",
      "Value n(data = 4.0) 0.0\n",
      "Value m(data = 8.0) 1.0\n",
      "\n",
      "Gradients after backprop\n",
      "Value n(data = 4.0) 2.0\n",
      "Value m(data = 8.0) 1.0\n"
     ]
    }
   ],
   "source": [
    "m.backward()"
   ]
  },
  {
   "cell_type": "markdown",
   "metadata": {},
   "source": [
    "## Breaking tanh into components"
   ]
  },
  {
   "cell_type": "code",
   "execution_count": 3,
   "metadata": {},
   "outputs": [
    {
     "name": "stdout",
     "output_type": "stream",
     "text": [
      "Value d(data = -6) Value e(data = 4.0) Value f(data = 2980.9579870417283) Value g(data = 0.999329299739067)\n"
     ]
    }
   ],
   "source": [
    "a = Value(2, label='a')\n",
    "b = Value(-3, label='b')\n",
    "c = Value(10.0, label='c')\n",
    "d = a*b; d.label = 'd'\n",
    "e = d + c; e.label='e'\n",
    "f = (2*e).exp(); f.label='f'\n",
    "g = (f - 1)/(f + 1); g.label='g'\n",
    "print(d, e, f, g)"
   ]
  },
  {
   "cell_type": "code",
   "execution_count": 9,
   "metadata": {},
   "outputs": [],
   "source": [
    "g.grad = 1.0"
   ]
  },
  {
   "cell_type": "code",
   "execution_count": null,
   "metadata": {},
   "outputs": [
    {
     "name": "stdout",
     "output_type": "stream",
     "text": [
      "Gradients before backprop\n",
      "Value (data = 2) 0.0\n",
      "Value c(data = 10.0) 0.0\n",
      "Value a(data = 2) 0.0\n",
      "Value b(data = -3) 0.0\n",
      "Value d(data = -6) 0.0\n",
      "Value e(data = 4.0) 0.0\n",
      "Value (data = 8.0) 0.0\n",
      "Value f(data = 2980.9579870417283) 0.0\n",
      "Value (data = -1) 0.0\n",
      "Value (data = 2979.9579870417283) 0.0\n",
      "Value (data = 1) 0.0\n",
      "Value (data = 2981.9579870417283) 0.0\n",
      "Value (data = 0.0003353501304664781) 0.0\n",
      "Value g(data = 0.999329299739067) 1.0\n",
      "\n",
      "Gradients after backprop\n",
      "Value (data = 2) 0.00268190136605213\n",
      "Value c(data = 10.0) 0.001340950683026065\n",
      "Value a(data = 2) -0.004022852049078195\n",
      "Value b(data = -3) 0.00268190136605213\n",
      "Value d(data = -6) 0.001340950683026065\n",
      "Value e(data = 4.0) 0.001340950683026065\n",
      "Value (data = 8.0) 0.0006704753415130325\n",
      "Value f(data = 2980.9579870417283) 2.2491942000779598e-07\n",
      "Value (data = -1) 0.0003353501304664781\n",
      "Value (data = 2979.9579870417283) 0.0003353501304664781\n",
      "Value (data = 1) -0.0003351252110464703\n",
      "Value (data = 2981.9579870417283) -0.0003351252110464703\n",
      "Value (data = 0.0003353501304664781) 2979.9579870417283\n",
      "Value g(data = 0.999329299739067) 1.0\n"
     ]
    }
   ],
   "source": [
    "g.backward() #we see similar gradients as when tanh was used directly for the output node"
   ]
  }
 ],
 "metadata": {
  "kernelspec": {
   "display_name": "ML",
   "language": "python",
   "name": "python3"
  },
  "language_info": {
   "codemirror_mode": {
    "name": "ipython",
    "version": 3
   },
   "file_extension": ".py",
   "mimetype": "text/x-python",
   "name": "python",
   "nbconvert_exporter": "python",
   "pygments_lexer": "ipython3",
   "version": "3.12.0"
  }
 },
 "nbformat": 4,
 "nbformat_minor": 2
}
